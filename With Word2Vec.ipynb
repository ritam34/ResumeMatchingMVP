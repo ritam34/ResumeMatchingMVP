{
 "cells": [
  {
   "cell_type": "code",
   "execution_count": 3,
   "metadata": {
    "collapsed": false
   },
   "outputs": [],
   "source": [
    "import os\n",
    "from os import path as osp\n",
    "\n",
    "import numpy as np\n",
    "\n",
    "root = osp.dirname(os.getcwd())\n",
    "\n",
    "from gensim.models import Word2Vec as w2v\n",
    "\n",
    "model = w2v.load(osp.join(root,'ResumeMatchingMVP/model/stackexchange_model'))"
   ]
  },
  {
   "cell_type": "code",
   "execution_count": 5,
   "metadata": {
    "collapsed": false
   },
   "outputs": [
    {
     "name": "stdout",
     "output_type": "stream",
     "text": [
      "0.3479546\n"
     ]
    }
   ],
   "source": [
    "print(model.wv.similarity('software','web'))"
   ]
  },
  {
   "cell_type": "markdown",
   "metadata": {},
   "source": [
    "# Word2Vec to get sentence vectors"
   ]
  },
  {
   "cell_type": "code",
   "execution_count": 12,
   "metadata": {
    "collapsed": true
   },
   "outputs": [],
   "source": [
    "def sent2vec(s):\n",
    "    '''Generate Vector for a sentence.'''\n",
    "    M = []\n",
    "    for w in s.split():\n",
    "        if w in model.wv.key_to_index:\n",
    "            M.append(model.wv[w])\n",
    "    if not M:\n",
    "        return np.zeros(model.vector_size)\n",
    "    \n",
    "    M = np.array(M)\n",
    "    v = M.sum(axis=0)\n",
    "    return v / np.linalg.norm(v)\n"
   ]
  },
  {
   "cell_type": "code",
   "execution_count": 14,
   "metadata": {
    "collapsed": true
   },
   "outputs": [],
   "source": [
    "def cosine_sim(vec1, vec2):\n",
    "    '''Return Cosine Similarity.'''\n",
    "    return  np.dot(vec1,vec2)/(np.linalg.norm(vec1)* np.linalg.norm(vec2))"
   ]
  },
  {
   "cell_type": "code",
   "execution_count": 15,
   "metadata": {
    "collapsed": false
   },
   "outputs": [
    {
     "data": {
      "text/plain": [
       "0.6553843"
      ]
     },
     "execution_count": 15,
     "metadata": {},
     "output_type": "execute_result"
    }
   ],
   "source": [
    "softdev = sent2vec('software developer')\n",
    "\n",
    "cosine_sim(softdev,sent2vec('web developer'))"
   ]
  },
  {
   "cell_type": "code",
   "execution_count": 16,
   "metadata": {
    "collapsed": false
   },
   "outputs": [
    {
     "name": "stdout",
     "output_type": "stream",
     "text": [
      "0.6026496\n",
      "0.80371773\n"
     ]
    },
    {
     "data": {
      "text/plain": [
       "0.0904722"
      ]
     },
     "execution_count": 16,
     "metadata": {},
     "output_type": "execute_result"
    }
   ],
   "source": [
    "print(cosine_sim(softdev,sent2vec('system developer')))\n",
    "print(cosine_sim(softdev,sent2vec('software engineer')))\n",
    "cosine_sim(softdev,sent2vec('data scientist'))"
   ]
  },
  {
   "cell_type": "markdown",
   "metadata": {},
   "source": [
    "# Using Word2Vec to get similar words"
   ]
  },
  {
   "cell_type": "code",
   "execution_count": 18,
   "metadata": {
    "collapsed": false
   },
   "outputs": [
    {
     "data": {
      "text/plain": [
       "[('ios', 0.8026195168495178),\n",
       " ('schildbach', 0.7566320896148682),\n",
       " ('iphone', 0.7185986042022705),\n",
       " ('mycelium', 0.711409866809845),\n",
       " ('mobile', 0.7046201825141907)]"
      ]
     },
     "execution_count": 18,
     "metadata": {},
     "output_type": "execute_result"
    }
   ],
   "source": [
    "#Get 5 most similar words by words\n",
    "\n",
    "model.wv.most_similar(positive=['android'],topn=5)"
   ]
  },
  {
   "cell_type": "code",
   "execution_count": 20,
   "metadata": {
    "collapsed": false
   },
   "outputs": [
    {
     "data": {
      "text/plain": [
       "[('software', 0.7978243827819824),\n",
       " ('developer', 0.7025680541992188),\n",
       " ('program', 0.49099570512771606),\n",
       " ('guide', 0.4798906743526459),\n",
       " ('client', 0.4791986346244812)]"
      ]
     },
     "execution_count": 20,
     "metadata": {},
     "output_type": "execute_result"
    }
   ],
   "source": [
    "#Get 5 most similar words by vector. \n",
    "# We can obviuosly get simlar words by providing a vector using the format below:\n",
    "'''model.similar_by_vector(vector,topn = 10)'''\n",
    "#But we can also use it cleverly to find a similar word to a phrase, using my sent2vec method:\n",
    "                                         \n",
    "model.wv.similar_by_vector(softdev, topn =5)"
   ]
  },
  {
   "cell_type": "code",
   "execution_count": null,
   "metadata": {
    "collapsed": true
   },
   "outputs": [],
   "source": []
  }
 ],
 "metadata": {
  "kernelspec": {
   "display_name": "Python 3",
   "language": "python",
   "name": "python3"
  },
  "language_info": {
   "codemirror_mode": {
    "name": "ipython",
    "version": 3
   },
   "file_extension": ".py",
   "mimetype": "text/x-python",
   "name": "python",
   "nbconvert_exporter": "python",
   "pygments_lexer": "ipython3",
   "version": "3.10.16"
  }
 },
 "nbformat": 4,
 "nbformat_minor": 0
}
