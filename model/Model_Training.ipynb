{
 "cells": [
  {
   "cell_type": "code",
   "execution_count": 1,
   "metadata": {},
   "outputs": [],
   "source": [
    "import logging\n",
    "logging.basicConfig(format='%(asctime)s : %(levelname)s : %(message)s', level=logging.INFO)"
   ]
  },
  {
   "cell_type": "code",
   "execution_count": 2,
   "metadata": {},
   "outputs": [],
   "source": [
    "import os,os.path\n",
    "import gensim,re "
   ]
  },
  {
   "cell_type": "code",
   "execution_count": 12,
   "metadata": {},
   "outputs": [],
   "source": [
    "class MySentences(object):\n",
    "    def __init__(self, dirname):\n",
    "        self.dirname = dirname\n",
    "\n",
    "    def __iter__(self):\n",
    "        for fname in os.listdir(self.dirname):\n",
    "            if fname.endswith('.txt'):\n",
    "                logging.info(f\"Processing {fname}\")\n",
    "                with open(os.path.join(self.dirname, fname), 'r', encoding='utf-8') as fin:\n",
    "                    for line in fin:\n",
    "                        # Clean & tokenize the line\n",
    "                        line = re.sub(\"[^a-zA-Z]\", \" \", line)\n",
    "                        yield line.lower().split()\n"
   ]
  },
  {
   "cell_type": "code",
   "execution_count": 13,
   "metadata": {},
   "outputs": [],
   "source": [
    "sentences = MySentences('d:/pre_course/Pratice/ResumeMatchingMVP/stackexchange')"
   ]
  },
  {
   "cell_type": "code",
   "execution_count": 14,
   "metadata": {},
   "outputs": [
    {
     "name": "stderr",
     "output_type": "stream",
     "text": [
      "2025-04-07 00:03:15,189 : INFO : Processing sample_bitcoin.stackexchange_paras.txt\n"
     ]
    },
    {
     "name": "stdout",
     "output_type": "stream",
     "text": [
      "['p', 'what', 'open', 'source', 'miner', 'applications', 'are', 'there', 'especially', 'to', 'see', 'how', 'the', 'mining', 'process', 'works', 'p']\n"
     ]
    }
   ],
   "source": [
    "for s in sentences:\n",
    "    print(s)\n",
    "    break  # just show one example\n"
   ]
  },
  {
   "cell_type": "code",
   "execution_count": 15,
   "metadata": {},
   "outputs": [
    {
     "name": "stderr",
     "output_type": "stream",
     "text": [
      "2025-04-07 00:04:23,060 : INFO : Processing sample_bitcoin.stackexchange_paras.txt\n",
      "2025-04-07 00:04:26,385 : INFO : Processing sample_bitcoin.stackexchange_sentences.txt\n"
     ]
    }
   ],
   "source": [
    "from collections import defaultdict\n",
    "d = defaultdict(lambda : 0)\n",
    "for each in sentences:\n",
    "    d[len(each)] += 1"
   ]
  },
  {
   "cell_type": "code",
   "execution_count": 16,
   "metadata": {},
   "outputs": [
    {
     "data": {
      "image/png": "[encoded data removed]",
      "text/plain": [
       "<Figure size 640x480 with 1 Axes>"
      ]
     },
     "metadata": {},
     "output_type": "display_data"
    }
   ],
   "source": [
    "\n",
    "#Identifying proper context parameter for word2vec model training.\n",
    "import operator\n",
    "d = dict(sorted(d.items(), key=operator.itemgetter(1), reverse=True)[:10])\n",
    "\n",
    "import matplotlib.pyplot as plt\n",
    "\n",
    "plt.bar(range(len(d)), d.values(), align='center')\n",
    "plt.xticks(range(len(d)), d.keys())\n",
    "plt.ylabel(\"Number of sentences\")\n",
    "plt.xlabel(\"Number of words in that sentence\")\n",
    "plt.savefig('context.jpg')\n",
    "plt.show()"
   ]
  },
  {
   "cell_type": "code",
   "execution_count": 18,
   "metadata": {},
   "outputs": [
    {
     "name": "stderr",
     "output_type": "stream",
     "text": [
      "2025-04-07 00:18:10,708 : INFO : collecting all words and their counts\n",
      "2025-04-07 00:18:10,710 : INFO : Processing sample_bitcoin.stackexchange_paras.txt\n",
      "2025-04-07 00:18:11,066 : INFO : PROGRESS: at sentence #0, processed 0 words, keeping 0 word types\n",
      "2025-04-07 00:18:11,193 : INFO : PROGRESS: at sentence #10000, processed 179389 words, keeping 8509 word types\n",
      "2025-04-07 00:18:11,308 : INFO : PROGRESS: at sentence #20000, processed 339481 words, keeping 11860 word types\n",
      "2025-04-07 00:18:11,423 : INFO : PROGRESS: at sentence #30000, processed 490560 words, keeping 14346 word types\n",
      "2025-04-07 00:18:11,546 : INFO : PROGRESS: at sentence #40000, processed 640523 words, keeping 16288 word types\n",
      "2025-04-07 00:18:11,675 : INFO : PROGRESS: at sentence #50000, processed 771474 words, keeping 17889 word types\n",
      "2025-04-07 00:18:11,948 : INFO : PROGRESS: at sentence #60000, processed 910716 words, keeping 19380 word types\n",
      "2025-04-07 00:18:12,141 : INFO : PROGRESS: at sentence #70000, processed 1052861 words, keeping 20596 word types\n",
      "2025-04-07 00:18:12,288 : INFO : PROGRESS: at sentence #80000, processed 1193490 words, keeping 22077 word types\n",
      "2025-04-07 00:18:12,419 : INFO : PROGRESS: at sentence #90000, processed 1333494 words, keeping 23496 word types\n",
      "2025-04-07 00:18:12,598 : INFO : PROGRESS: at sentence #100000, processed 1479887 words, keeping 24981 word types\n",
      "2025-04-07 00:18:12,823 : INFO : PROGRESS: at sentence #110000, processed 1623049 words, keeping 26188 word types\n",
      "2025-04-07 00:18:13,040 : INFO : PROGRESS: at sentence #120000, processed 1764911 words, keeping 27485 word types\n",
      "2025-04-07 00:18:13,254 : INFO : PROGRESS: at sentence #130000, processed 1897896 words, keeping 28833 word types\n",
      "2025-04-07 00:18:13,475 : INFO : PROGRESS: at sentence #140000, processed 2037039 words, keeping 30450 word types\n",
      "2025-04-07 00:18:13,697 : INFO : PROGRESS: at sentence #150000, processed 2182807 words, keeping 31569 word types\n",
      "2025-04-07 00:18:13,921 : INFO : PROGRESS: at sentence #160000, processed 2312363 words, keeping 32754 word types\n",
      "2025-04-07 00:18:14,143 : INFO : PROGRESS: at sentence #170000, processed 2452303 words, keeping 34081 word types\n",
      "2025-04-07 00:18:14,256 : INFO : PROGRESS: at sentence #180000, processed 2578284 words, keeping 35386 word types\n",
      "2025-04-07 00:18:14,370 : INFO : PROGRESS: at sentence #190000, processed 2707941 words, keeping 36427 word types\n",
      "2025-04-07 00:18:14,492 : INFO : PROGRESS: at sentence #200000, processed 2833829 words, keeping 37498 word types\n",
      "2025-04-07 00:18:14,602 : INFO : PROGRESS: at sentence #210000, processed 2952415 words, keeping 38535 word types\n",
      "2025-04-07 00:18:14,716 : INFO : PROGRESS: at sentence #220000, processed 3076297 words, keeping 39710 word types\n",
      "2025-04-07 00:18:14,841 : INFO : PROGRESS: at sentence #230000, processed 3209829 words, keeping 40747 word types\n",
      "2025-04-07 00:18:14,962 : INFO : PROGRESS: at sentence #240000, processed 3344328 words, keeping 41817 word types\n",
      "2025-04-07 00:18:15,084 : INFO : PROGRESS: at sentence #250000, processed 3481698 words, keeping 42876 word types\n",
      "2025-04-07 00:18:15,202 : INFO : PROGRESS: at sentence #260000, processed 3605249 words, keeping 44072 word types\n",
      "2025-04-07 00:18:15,323 : INFO : PROGRESS: at sentence #270000, processed 3736485 words, keeping 45050 word types\n",
      "2025-04-07 00:18:15,446 : INFO : PROGRESS: at sentence #280000, processed 3864346 words, keeping 45956 word types\n",
      "2025-04-07 00:18:15,560 : INFO : PROGRESS: at sentence #290000, processed 4001185 words, keeping 47046 word types\n",
      "2025-04-07 00:18:15,754 : INFO : PROGRESS: at sentence #300000, processed 4133566 words, keeping 47964 word types\n",
      "2025-04-07 00:18:15,878 : INFO : Processing sample_bitcoin.stackexchange_sentences.txt\n",
      "2025-04-07 00:18:15,991 : INFO : PROGRESS: at sentence #310000, processed 4282778 words, keeping 48710 word types\n",
      "2025-04-07 00:18:16,238 : INFO : PROGRESS: at sentence #320000, processed 4477152 words, keeping 48712 word types\n",
      "2025-04-07 00:18:16,482 : INFO : PROGRESS: at sentence #330000, processed 4666529 words, keeping 48713 word types\n",
      "2025-04-07 00:18:16,724 : INFO : PROGRESS: at sentence #340000, processed 4849603 words, keeping 48713 word types\n",
      "2025-04-07 00:18:16,960 : INFO : PROGRESS: at sentence #350000, processed 5031004 words, keeping 48714 word types\n",
      "2025-04-07 00:18:17,115 : INFO : PROGRESS: at sentence #360000, processed 5209455 words, keeping 48717 word types\n",
      "2025-04-07 00:18:17,240 : INFO : PROGRESS: at sentence #370000, processed 5388215 words, keeping 48717 word types\n",
      "2025-04-07 00:18:17,368 : INFO : PROGRESS: at sentence #380000, processed 5567527 words, keeping 48721 word types\n",
      "2025-04-07 00:18:17,506 : INFO : PROGRESS: at sentence #390000, processed 5753605 words, keeping 48724 word types\n",
      "2025-04-07 00:18:17,638 : INFO : PROGRESS: at sentence #400000, processed 5936942 words, keeping 48725 word types\n",
      "2025-04-07 00:18:17,776 : INFO : PROGRESS: at sentence #410000, processed 6121140 words, keeping 48726 word types\n",
      "2025-04-07 00:18:17,908 : INFO : PROGRESS: at sentence #420000, processed 6296040 words, keeping 48732 word types\n",
      "2025-04-07 00:18:18,047 : INFO : PROGRESS: at sentence #430000, processed 6477468 words, keeping 48739 word types\n",
      "2025-04-07 00:18:18,180 : INFO : PROGRESS: at sentence #440000, processed 6655742 words, keeping 48740 word types\n",
      "2025-04-07 00:18:18,312 : INFO : PROGRESS: at sentence #450000, processed 6832232 words, keeping 48746 word types\n",
      "2025-04-07 00:18:18,451 : INFO : PROGRESS: at sentence #460000, processed 7012807 words, keeping 48747 word types\n",
      "2025-04-07 00:18:18,523 : INFO : collected 48748 word types from a corpus of 7107093 raw words and 465405 sentences\n",
      "2025-04-07 00:18:18,524 : INFO : Creating a fresh vocabulary\n",
      "2025-04-07 00:18:18,830 : INFO : Word2Vec lifecycle event {'msg': 'effective_min_count=1 retains 48748 unique words (100.00% of original 48748, drops 0)', 'datetime': '2025-04-07T00:18:18.830362', 'gensim': '4.3.3', 'python': '3.10.16 | packaged by Anaconda, Inc. | (main, Dec 11 2024, 16:19:12) [MSC v.1929 64 bit (AMD64)]', 'platform': 'Windows-10-10.0.26100-SP0', 'event': 'prepare_vocab'}\n",
      "2025-04-07 00:18:18,831 : INFO : Word2Vec lifecycle event {'msg': 'effective_min_count=1 leaves 7107093 word corpus (100.00% of original 7107093, drops 0)', 'datetime': '2025-04-07T00:18:18.831365', 'gensim': '4.3.3', 'python': '3.10.16 | packaged by Anaconda, Inc. | (main, Dec 11 2024, 16:19:12) [MSC v.1929 64 bit (AMD64)]', 'platform': 'Windows-10-10.0.26100-SP0', 'event': 'prepare_vocab'}\n",
      "2025-04-07 00:18:19,368 : INFO : deleting the raw counts dictionary of 48748 items\n",
      "2025-04-07 00:18:19,370 : INFO : sample=0.001 downsamples 57 most-common words\n",
      "2025-04-07 00:18:19,371 : INFO : Word2Vec lifecycle event {'msg': 'downsampling leaves estimated 5355116.376134183 word corpus (75.3%% of prior 7107093)', 'datetime': '2025-04-07T00:18:19.371958', 'gensim': '4.3.3', 'python': '3.10.16 | packaged by Anaconda, Inc. | (main, Dec 11 2024, 16:19:12) [MSC v.1929 64 bit (AMD64)]', 'platform': 'Windows-10-10.0.26100-SP0', 'event': 'prepare_vocab'}\n",
      "2025-04-07 00:18:20,094 : INFO : estimated required memory for 48748 words and 300 dimensions: 141369200 bytes\n",
      "2025-04-07 00:18:20,095 : INFO : resetting layer weights\n",
      "2025-04-07 00:18:20,158 : INFO : Word2Vec lifecycle event {'update': False, 'trim_rule': 'None', 'datetime': '2025-04-07T00:18:20.158136', 'gensim': '4.3.3', 'python': '3.10.16 | packaged by Anaconda, Inc. | (main, Dec 11 2024, 16:19:12) [MSC v.1929 64 bit (AMD64)]', 'platform': 'Windows-10-10.0.26100-SP0', 'event': 'build_vocab'}\n",
      "2025-04-07 00:18:20,160 : INFO : Word2Vec lifecycle event {'msg': 'training model with 4 workers on 48748 vocabulary and 300 features, using sg=0 hs=0 sample=0.001 negative=5 window=15 shrink_windows=True', 'datetime': '2025-04-07T00:18:20.160136', 'gensim': '4.3.3', 'python': '3.10.16 | packaged by Anaconda, Inc. | (main, Dec 11 2024, 16:19:12) [MSC v.1929 64 bit (AMD64)]', 'platform': 'Windows-10-10.0.26100-SP0', 'event': 'train'}\n",
      "2025-04-07 00:18:20,165 : INFO : Processing sample_bitcoin.stackexchange_paras.txt\n",
      "2025-04-07 00:18:21,169 : INFO : EPOCH 0 - PROGRESS: at 6.86% examples, 383851 words/s, in_qsize 0, out_qsize 0\n",
      "2025-04-07 00:18:22,174 : INFO : EPOCH 0 - PROGRESS: at 13.60% examples, 354489 words/s, in_qsize 1, out_qsize 0\n",
      "2025-04-07 00:18:23,181 : INFO : EPOCH 0 - PROGRESS: at 19.71% examples, 334780 words/s, in_qsize 0, out_qsize 0\n",
      "2025-04-07 00:18:24,200 : INFO : EPOCH 0 - PROGRESS: at 25.50% examples, 322048 words/s, in_qsize 0, out_qsize 0\n",
      "2025-04-07 00:18:25,222 : INFO : EPOCH 0 - PROGRESS: at 31.54% examples, 314788 words/s, in_qsize 0, out_qsize 0\n",
      "2025-04-07 00:18:26,223 : INFO : EPOCH 0 - PROGRESS: at 36.14% examples, 298838 words/s, in_qsize 0, out_qsize 0\n",
      "2025-04-07 00:18:27,243 : INFO : EPOCH 0 - PROGRESS: at 42.00% examples, 293118 words/s, in_qsize 0, out_qsize 0\n",
      "2025-04-07 00:18:28,245 : INFO : EPOCH 0 - PROGRESS: at 48.53% examples, 292496 words/s, in_qsize 0, out_qsize 0\n",
      "2025-04-07 00:18:29,263 : INFO : EPOCH 0 - PROGRESS: at 54.66% examples, 290992 words/s, in_qsize 0, out_qsize 0\n",
      "2025-04-07 00:18:30,284 : INFO : EPOCH 0 - PROGRESS: at 60.92% examples, 289863 words/s, in_qsize 0, out_qsize 0\n",
      "2025-04-07 00:18:31,172 : INFO : Processing sample_bitcoin.stackexchange_sentences.txt\n",
      "2025-04-07 00:18:31,284 : INFO : EPOCH 0 - PROGRESS: at 65.92% examples, 284822 words/s, in_qsize 0, out_qsize 0\n",
      "2025-04-07 00:18:32,287 : INFO : EPOCH 0 - PROGRESS: at 70.38% examples, 286323 words/s, in_qsize 0, out_qsize 0\n",
      "2025-04-07 00:18:33,292 : INFO : EPOCH 0 - PROGRESS: at 75.30% examples, 288609 words/s, in_qsize 0, out_qsize 0\n",
      "2025-04-07 00:18:34,308 : INFO : EPOCH 0 - PROGRESS: at 80.48% examples, 290943 words/s, in_qsize 0, out_qsize 0\n",
      "2025-04-07 00:18:35,314 : INFO : EPOCH 0 - PROGRESS: at 85.48% examples, 293063 words/s, in_qsize 1, out_qsize 0\n",
      "2025-04-07 00:18:36,326 : INFO : EPOCH 0 - PROGRESS: at 89.64% examples, 291118 words/s, in_qsize 0, out_qsize 0\n",
      "2025-04-07 00:18:37,338 : INFO : EPOCH 0 - PROGRESS: at 94.56% examples, 292068 words/s, in_qsize 0, out_qsize 0\n",
      "2025-04-07 00:18:38,353 : INFO : EPOCH 0 - PROGRESS: at 99.49% examples, 292840 words/s, in_qsize 1, out_qsize 0\n",
      "2025-04-07 00:18:38,446 : INFO : EPOCH 0: training on 7107093 raw words (5356767 effective words) took 18.3s, 293015 effective words/s\n",
      "2025-04-07 00:18:38,455 : INFO : Processing sample_bitcoin.stackexchange_paras.txt\n",
      "2025-04-07 00:18:39,470 : INFO : EPOCH 1 - PROGRESS: at 4.72% examples, 270261 words/s, in_qsize 0, out_qsize 0\n",
      "2025-04-07 00:18:40,475 : INFO : EPOCH 1 - PROGRESS: at 10.68% examples, 283211 words/s, in_qsize 0, out_qsize 0\n",
      "2025-04-07 00:18:41,486 : INFO : EPOCH 1 - PROGRESS: at 16.79% examples, 286611 words/s, in_qsize 1, out_qsize 0\n",
      "2025-04-07 00:18:42,486 : INFO : EPOCH 1 - PROGRESS: at 22.82% examples, 289239 words/s, in_qsize 0, out_qsize 0\n",
      "2025-04-07 00:18:43,499 : INFO : EPOCH 1 - PROGRESS: at 28.83% examples, 288696 words/s, in_qsize 0, out_qsize 0\n",
      "2025-04-07 00:18:44,516 : INFO : EPOCH 1 - PROGRESS: at 34.96% examples, 288645 words/s, in_qsize 0, out_qsize 0\n",
      "2025-04-07 00:18:45,524 : INFO : EPOCH 1 - PROGRESS: at 40.37% examples, 283807 words/s, in_qsize 0, out_qsize 0\n",
      "2025-04-07 00:18:46,565 : INFO : EPOCH 1 - PROGRESS: at 44.97% examples, 271836 words/s, in_qsize 0, out_qsize 1\n",
      "2025-04-07 00:18:47,582 : INFO : EPOCH 1 - PROGRESS: at 50.13% examples, 267154 words/s, in_qsize 0, out_qsize 0\n",
      "2025-04-07 00:18:48,599 : INFO : EPOCH 1 - PROGRESS: at 56.10% examples, 267681 words/s, in_qsize 0, out_qsize 0\n",
      "2025-04-07 00:18:49,607 : INFO : EPOCH 1 - PROGRESS: at 62.31% examples, 269092 words/s, in_qsize 0, out_qsize 0\n",
      "2025-04-07 00:18:50,107 : INFO : Processing sample_bitcoin.stackexchange_sentences.txt\n",
      "2025-04-07 00:18:50,608 : INFO : EPOCH 1 - PROGRESS: at 68.00% examples, 272501 words/s, in_qsize 0, out_qsize 0\n",
      "2025-04-07 00:18:51,619 : INFO : EPOCH 1 - PROGRESS: at 72.94% examples, 276308 words/s, in_qsize 0, out_qsize 0\n",
      "2025-04-07 00:18:52,644 : INFO : EPOCH 1 - PROGRESS: at 78.07% examples, 279251 words/s, in_qsize 0, out_qsize 0\n",
      "2025-04-07 00:18:53,678 : INFO : EPOCH 1 - PROGRESS: at 83.18% examples, 281634 words/s, in_qsize 0, out_qsize 0\n",
      "2025-04-07 00:18:54,716 : INFO : EPOCH 1 - PROGRESS: at 88.30% examples, 284127 words/s, in_qsize 0, out_qsize 0\n",
      "2025-04-07 00:18:55,729 : INFO : EPOCH 1 - PROGRESS: at 93.58% examples, 286791 words/s, in_qsize 0, out_qsize 0\n",
      "2025-04-07 00:18:56,758 : INFO : EPOCH 1 - PROGRESS: at 98.53% examples, 287611 words/s, in_qsize 0, out_qsize 1\n",
      "2025-04-07 00:18:56,987 : INFO : EPOCH 1: training on 7107093 raw words (5355396 effective words) took 18.5s, 288972 effective words/s\n",
      "2025-04-07 00:18:56,993 : INFO : Processing sample_bitcoin.stackexchange_paras.txt\n",
      "2025-04-07 00:18:58,009 : INFO : EPOCH 2 - PROGRESS: at 4.98% examples, 284189 words/s, in_qsize 0, out_qsize 0\n",
      "2025-04-07 00:18:59,014 : INFO : EPOCH 2 - PROGRESS: at 10.89% examples, 286708 words/s, in_qsize 0, out_qsize 0\n",
      "2025-04-07 00:19:00,032 : INFO : EPOCH 2 - PROGRESS: at 16.01% examples, 273443 words/s, in_qsize 0, out_qsize 0\n",
      "2025-04-07 00:19:01,057 : INFO : EPOCH 2 - PROGRESS: at 21.75% examples, 274093 words/s, in_qsize 1, out_qsize 0\n",
      "2025-04-07 00:19:02,068 : INFO : EPOCH 2 - PROGRESS: at 27.90% examples, 278132 words/s, in_qsize 0, out_qsize 0\n",
      "2025-04-07 00:19:03,069 : INFO : EPOCH 2 - PROGRESS: at 33.87% examples, 280399 words/s, in_qsize 0, out_qsize 0\n",
      "2025-04-07 00:19:04,074 : INFO : EPOCH 2 - PROGRESS: at 40.09% examples, 281159 words/s, in_qsize 0, out_qsize 0\n",
      "2025-04-07 00:19:05,082 : INFO : EPOCH 2 - PROGRESS: at 46.38% examples, 280080 words/s, in_qsize 0, out_qsize 0\n",
      "2025-04-07 00:19:06,104 : INFO : EPOCH 2 - PROGRESS: at 52.65% examples, 280714 words/s, in_qsize 0, out_qsize 0\n",
      "2025-04-07 00:19:07,135 : INFO : EPOCH 2 - PROGRESS: at 59.11% examples, 281071 words/s, in_qsize 0, out_qsize 0\n",
      "2025-04-07 00:19:08,142 : INFO : EPOCH 2 - PROGRESS: at 65.22% examples, 281289 words/s, in_qsize 0, out_qsize 0\n",
      "2025-04-07 00:19:08,167 : INFO : Processing sample_bitcoin.stackexchange_sentences.txt\n",
      "2025-04-07 00:19:09,161 : INFO : EPOCH 2 - PROGRESS: at 70.27% examples, 284542 words/s, in_qsize 0, out_qsize 0\n",
      "2025-04-07 00:19:10,178 : INFO : EPOCH 2 - PROGRESS: at 75.42% examples, 287828 words/s, in_qsize 0, out_qsize 0\n",
      "2025-04-07 00:19:11,186 : INFO : EPOCH 2 - PROGRESS: at 79.64% examples, 286073 words/s, in_qsize 0, out_qsize 0\n",
      "2025-04-07 00:19:12,188 : INFO : EPOCH 2 - PROGRESS: at 83.96% examples, 285624 words/s, in_qsize 0, out_qsize 0\n",
      "2025-04-07 00:19:13,208 : INFO : EPOCH 2 - PROGRESS: at 88.30% examples, 284909 words/s, in_qsize 1, out_qsize 0\n",
      "2025-04-07 00:19:14,228 : INFO : EPOCH 2 - PROGRESS: at 93.46% examples, 286990 words/s, in_qsize 0, out_qsize 0\n",
      "2025-04-07 00:19:15,238 : INFO : EPOCH 2 - PROGRESS: at 98.53% examples, 288517 words/s, in_qsize 1, out_qsize 0\n",
      "2025-04-07 00:19:15,502 : INFO : EPOCH 2: training on 7107093 raw words (5354870 effective words) took 18.5s, 289313 effective words/s\n",
      "2025-04-07 00:19:15,506 : INFO : Processing sample_bitcoin.stackexchange_paras.txt\n",
      "2025-04-07 00:19:16,516 : INFO : EPOCH 3 - PROGRESS: at 4.85% examples, 278873 words/s, in_qsize 0, out_qsize 0\n",
      "2025-04-07 00:19:17,536 : INFO : EPOCH 3 - PROGRESS: at 10.37% examples, 274565 words/s, in_qsize 0, out_qsize 0\n",
      "2025-04-07 00:19:18,548 : INFO : EPOCH 3 - PROGRESS: at 15.43% examples, 263552 words/s, in_qsize 0, out_qsize 0\n",
      "2025-04-07 00:19:19,553 : INFO : EPOCH 3 - PROGRESS: at 21.19% examples, 267923 words/s, in_qsize 0, out_qsize 0\n",
      "2025-04-07 00:19:20,562 : INFO : EPOCH 3 - PROGRESS: at 27.09% examples, 271837 words/s, in_qsize 0, out_qsize 0\n",
      "2025-04-07 00:19:21,585 : INFO : EPOCH 3 - PROGRESS: at 32.96% examples, 272898 words/s, in_qsize 0, out_qsize 0\n",
      "2025-04-07 00:19:22,605 : INFO : EPOCH 3 - PROGRESS: at 37.86% examples, 266550 words/s, in_qsize 0, out_qsize 0\n",
      "2025-04-07 00:19:23,609 : INFO : EPOCH 3 - PROGRESS: at 43.53% examples, 264529 words/s, in_qsize 0, out_qsize 0\n",
      "2025-04-07 00:19:24,616 : INFO : EPOCH 3 - PROGRESS: at 49.95% examples, 266803 words/s, in_qsize 0, out_qsize 0\n",
      "2025-04-07 00:19:25,630 : INFO : EPOCH 3 - PROGRESS: at 56.29% examples, 268904 words/s, in_qsize 0, out_qsize 0\n",
      "2025-04-07 00:19:26,653 : INFO : EPOCH 3 - PROGRESS: at 62.67% examples, 270536 words/s, in_qsize 0, out_qsize 0\n",
      "2025-04-07 00:19:27,112 : INFO : Processing sample_bitcoin.stackexchange_sentences.txt\n",
      "2025-04-07 00:19:27,655 : INFO : EPOCH 3 - PROGRESS: at 68.22% examples, 273765 words/s, in_qsize 0, out_qsize 0\n",
      "2025-04-07 00:19:28,663 : INFO : EPOCH 3 - PROGRESS: at 73.17% examples, 277559 words/s, in_qsize 1, out_qsize 0\n",
      "2025-04-07 00:19:29,666 : INFO : EPOCH 3 - PROGRESS: at 78.31% examples, 280897 words/s, in_qsize 1, out_qsize 0\n",
      "2025-04-07 00:19:30,667 : INFO : EPOCH 3 - PROGRESS: at 83.41% examples, 283775 words/s, in_qsize 0, out_qsize 0\n",
      "2025-04-07 00:19:31,688 : INFO : EPOCH 3 - PROGRESS: at 88.30% examples, 285535 words/s, in_qsize 0, out_qsize 0\n",
      "2025-04-07 00:19:32,693 : INFO : EPOCH 3 - PROGRESS: at 93.58% examples, 288246 words/s, in_qsize 0, out_qsize 0\n",
      "2025-04-07 00:19:33,708 : INFO : EPOCH 3 - PROGRESS: at 98.77% examples, 290068 words/s, in_qsize 0, out_qsize 0\n",
      "2025-04-07 00:19:33,909 : INFO : EPOCH 3: training on 7107093 raw words (5355621 effective words) took 18.4s, 291019 effective words/s\n",
      "2025-04-07 00:19:33,914 : INFO : Processing sample_bitcoin.stackexchange_paras.txt\n",
      "2025-04-07 00:19:34,918 : INFO : EPOCH 4 - PROGRESS: at 4.98% examples, 287870 words/s, in_qsize 0, out_qsize 0\n",
      "2025-04-07 00:19:35,932 : INFO : EPOCH 4 - PROGRESS: at 9.77% examples, 261435 words/s, in_qsize 0, out_qsize 0\n",
      "2025-04-07 00:19:36,945 : INFO : EPOCH 4 - PROGRESS: at 15.86% examples, 271588 words/s, in_qsize 0, out_qsize 0\n",
      "2025-04-07 00:19:37,968 : INFO : EPOCH 4 - PROGRESS: at 21.94% examples, 276597 words/s, in_qsize 0, out_qsize 0\n",
      "2025-04-07 00:19:38,980 : INFO : EPOCH 4 - PROGRESS: at 28.05% examples, 280081 words/s, in_qsize 0, out_qsize 0\n",
      "2025-04-07 00:19:39,990 : INFO : EPOCH 4 - PROGRESS: at 34.10% examples, 281626 words/s, in_qsize 0, out_qsize 0\n",
      "2025-04-07 00:19:41,018 : INFO : EPOCH 4 - PROGRESS: at 40.09% examples, 280227 words/s, in_qsize 0, out_qsize 0\n",
      "2025-04-07 00:19:42,027 : INFO : EPOCH 4 - PROGRESS: at 46.56% examples, 280169 words/s, in_qsize 0, out_qsize 0\n",
      "2025-04-07 00:19:43,050 : INFO : EPOCH 4 - PROGRESS: at 53.01% examples, 281606 words/s, in_qsize 0, out_qsize 0\n",
      "2025-04-07 00:19:44,056 : INFO : EPOCH 4 - PROGRESS: at 59.11% examples, 281082 words/s, in_qsize 0, out_qsize 0\n",
      "2025-04-07 00:19:45,034 : INFO : Processing sample_bitcoin.stackexchange_sentences.txt\n",
      "2025-04-07 00:19:45,067 : INFO : EPOCH 4 - PROGRESS: at 65.56% examples, 282564 words/s, in_qsize 0, out_qsize 0\n",
      "2025-04-07 00:19:46,080 : INFO : EPOCH 4 - PROGRESS: at 70.59% examples, 286438 words/s, in_qsize 0, out_qsize 0\n",
      "2025-04-07 00:19:47,101 : INFO : EPOCH 4 - PROGRESS: at 75.67% examples, 288893 words/s, in_qsize 0, out_qsize 0\n",
      "2025-04-07 00:19:48,112 : INFO : EPOCH 4 - PROGRESS: at 80.84% examples, 291236 words/s, in_qsize 0, out_qsize 0\n",
      "2025-04-07 00:19:49,122 : INFO : EPOCH 4 - PROGRESS: at 84.87% examples, 289264 words/s, in_qsize 0, out_qsize 1\n",
      "2025-04-07 00:19:50,132 : INFO : EPOCH 4 - PROGRESS: at 90.26% examples, 292288 words/s, in_qsize 0, out_qsize 0\n",
      "2025-04-07 00:19:51,136 : INFO : EPOCH 4 - PROGRESS: at 95.41% examples, 294158 words/s, in_qsize 0, out_qsize 0\n",
      "2025-04-07 00:19:51,980 : INFO : EPOCH 4: training on 7107093 raw words (5353577 effective words) took 18.1s, 296339 effective words/s\n",
      "2025-04-07 00:19:51,981 : INFO : Word2Vec lifecycle event {'msg': 'training on 35535465 raw words (26776231 effective words) took 91.8s, 291615 effective words/s', 'datetime': '2025-04-07T00:19:51.981536', 'gensim': '4.3.3', 'python': '3.10.16 | packaged by Anaconda, Inc. | (main, Dec 11 2024, 16:19:12) [MSC v.1929 64 bit (AMD64)]', 'platform': 'Windows-10-10.0.26100-SP0', 'event': 'train'}\n",
      "2025-04-07 00:19:51,982 : INFO : Word2Vec lifecycle event {'params': 'Word2Vec<vocab=48748, vector_size=300, alpha=0.025>', 'datetime': '2025-04-07T00:19:51.982820', 'gensim': '4.3.3', 'python': '3.10.16 | packaged by Anaconda, Inc. | (main, Dec 11 2024, 16:19:12) [MSC v.1929 64 bit (AMD64)]', 'platform': 'Windows-10-10.0.26100-SP0', 'event': 'created'}\n"
     ]
    }
   ],
   "source": [
    "# Set values for various parameters\n",
    "#size = 300             # Word vector dimensionality                      \n",
    "#min_count = 10         # Minimum word count                        \n",
    "#workers = 4            # Number of threads to run in parallel\n",
    "#window = 15           # Context window size                                                                                    \n",
    "#sample = 1e-3          # Downsample setting for frequent words\n",
    "\n",
    "\n",
    "model = gensim.models.Word2Vec(sentences, vector_size=300, workers=4, min_count=1, window=15, sample=1e-3)"
   ]
  },
  {
   "cell_type": "code",
   "execution_count": 19,
   "metadata": {},
   "outputs": [
    {
     "name": "stderr",
     "output_type": "stream",
     "text": [
      "2025-04-07 00:20:25,586 : INFO : Word2Vec lifecycle event {'fname_or_handle': 'stackexchange_model', 'separately': 'None', 'sep_limit': 10485760, 'ignore': frozenset(), 'datetime': '2025-04-07T00:20:25.586702', 'gensim': '4.3.3', 'python': '3.10.16 | packaged by Anaconda, Inc. | (main, Dec 11 2024, 16:19:12) [MSC v.1929 64 bit (AMD64)]', 'platform': 'Windows-10-10.0.26100-SP0', 'event': 'saving'}\n",
      "2025-04-07 00:20:25,589 : INFO : storing np array 'vectors' to stackexchange_model.wv.vectors.npy\n",
      "2025-04-07 00:20:26,509 : INFO : storing np array 'syn1neg' to stackexchange_model.syn1neg.npy\n",
      "2025-04-07 00:20:26,905 : INFO : not storing attribute cum_table\n",
      "2025-04-07 00:20:26,942 : INFO : saved stackexchange_model\n"
     ]
    }
   ],
   "source": [
    "# save the model for later use. You can load it later using Word2Vec.load()\n",
    "model_name = \"stackexchange_model\"\n",
    "model.save(model_name)"
   ]
  },
  {
   "cell_type": "code",
   "execution_count": 21,
   "metadata": {},
   "outputs": [
    {
     "name": "stdout",
     "output_type": "stream",
     "text": [
      "48748\n"
     ]
    }
   ],
   "source": [
    "print(len(model.wv.key_to_index))"
   ]
  },
  {
   "cell_type": "code",
   "execution_count": 23,
   "metadata": {},
   "outputs": [
    {
     "name": "stderr",
     "output_type": "stream",
     "text": [
      "2025-04-07 00:24:16,148 : WARNING : vectors for words {'internship'} are not present in the model, ignoring these words\n"
     ]
    },
    {
     "name": "stdout",
     "output_type": "stream",
     "text": [
      "html\n",
      "html\n",
      "redhat\n",
      "hot\n",
      "job\n"
     ]
    }
   ],
   "source": [
    "#Odd one out.\n",
    "print (model.wv.doesnt_match(\"java html javascript\".split()))\n",
    "print (model.wv.doesnt_match(\"java python html javascript\".split()))\n",
    "print (model.wv.doesnt_match(\"server linux windows redhat\".split()))\n",
    "print (model.wv.doesnt_match(\"cool hot big\".split()))\n",
    "print (model.wv.doesnt_match(\"internship job training\".split()))"
   ]
  },
  {
   "cell_type": "code",
   "execution_count": 25,
   "metadata": {},
   "outputs": [
    {
     "name": "stdout",
     "output_type": "stream",
     "text": [
      "[('csemaphoregrant', 0.7301995158195496)]\n",
      "[('xchange', 0.5117818713188171)]\n",
      "[('bills', 0.40326544642448425)]\n",
      "[('her', 0.8109297156333923)]\n",
      "[('pbfgminer', 0.6190739870071411)]\n"
     ]
    }
   ],
   "source": [
    "#man is to women as king is to ______\n",
    "print (model.wv.most_similar(positive=['woman', 'king'], negative=['man'], topn=1))\n",
    "#css is to html as java is to _______\n",
    "print (model.wv.most_similar(positive=['java', 'html'], negative=['css'], topn=1))\n",
    "#berlin is to germany as paris is to _________\n",
    "print (model.wv.most_similar(positive=['paris', 'germany'], negative=['berlin'], topn=1))\n",
    "#he is to his as she is to _______\n",
    "print (model.wv.most_similar(positive=['she', 'his'], negative=['he'], topn=1))\n",
    "#windows is to microsoft as osx is to __________\n",
    "print (model.wv.most_similar(positive=['osx', 'microsoft'], negative=['windows'], topn=1))"
   ]
  },
  {
   "cell_type": "code",
   "execution_count": 27,
   "metadata": {},
   "outputs": [
    {
     "name": "stdout",
     "output_type": "stream",
     "text": [
      "0.35525143\n",
      "0.23671718\n",
      "0.3405772\n"
     ]
    },
    {
     "ename": "KeyError",
     "evalue": "\"Key 'cyanogenmod' not present\"",
     "output_type": "error",
     "traceback": [
      "\u001b[1;31m---------------------------------------------------------------------------\u001b[0m",
      "\u001b[1;31mKeyError\u001b[0m                                  Traceback (most recent call last)",
      "Cell \u001b[1;32mIn[27], line 4\u001b[0m\n\u001b[0;32m      2\u001b[0m \u001b[38;5;28mprint\u001b[39m(model\u001b[38;5;241m.\u001b[39mwv\u001b[38;5;241m.\u001b[39msimilarity(\u001b[38;5;124m'\u001b[39m\u001b[38;5;124mwallet\u001b[39m\u001b[38;5;124m'\u001b[39m,\u001b[38;5;124m'\u001b[39m\u001b[38;5;124mpurse\u001b[39m\u001b[38;5;124m'\u001b[39m))\n\u001b[0;32m      3\u001b[0m \u001b[38;5;28mprint\u001b[39m(model\u001b[38;5;241m.\u001b[39mwv\u001b[38;5;241m.\u001b[39msimilarity(\u001b[38;5;124m'\u001b[39m\u001b[38;5;124mwindows\u001b[39m\u001b[38;5;124m'\u001b[39m,\u001b[38;5;124m'\u001b[39m\u001b[38;5;124mmicrosoft\u001b[39m\u001b[38;5;124m'\u001b[39m))\n\u001b[1;32m----> 4\u001b[0m \u001b[38;5;28mprint\u001b[39m(\u001b[43mmodel\u001b[49m\u001b[38;5;241;43m.\u001b[39;49m\u001b[43mwv\u001b[49m\u001b[38;5;241;43m.\u001b[39;49m\u001b[43msimilarity\u001b[49m\u001b[43m(\u001b[49m\u001b[38;5;124;43m'\u001b[39;49m\u001b[38;5;124;43mcyanogenmod\u001b[39;49m\u001b[38;5;124;43m'\u001b[39;49m\u001b[43m,\u001b[49m\u001b[38;5;124;43m'\u001b[39;49m\u001b[38;5;124;43mandroid\u001b[39;49m\u001b[38;5;124;43m'\u001b[39;49m\u001b[43m)\u001b[49m)\n",
      "File \u001b[1;32md:\\pre_course\\Pratice\\venv\\lib\\site-packages\\gensim\\models\\keyedvectors.py:1234\u001b[0m, in \u001b[0;36mKeyedVectors.similarity\u001b[1;34m(self, w1, w2)\u001b[0m\n\u001b[0;32m   1218\u001b[0m \u001b[38;5;28;01mdef\u001b[39;00m \u001b[38;5;21msimilarity\u001b[39m(\u001b[38;5;28mself\u001b[39m, w1, w2):\n\u001b[0;32m   1219\u001b[0m \u001b[38;5;250m    \u001b[39m\u001b[38;5;124;03m\"\"\"Compute cosine similarity between two keys.\u001b[39;00m\n\u001b[0;32m   1220\u001b[0m \n\u001b[0;32m   1221\u001b[0m \u001b[38;5;124;03m    Parameters\u001b[39;00m\n\u001b[1;32m   (...)\u001b[0m\n\u001b[0;32m   1232\u001b[0m \n\u001b[0;32m   1233\u001b[0m \u001b[38;5;124;03m    \"\"\"\u001b[39;00m\n\u001b[1;32m-> 1234\u001b[0m     \u001b[38;5;28;01mreturn\u001b[39;00m dot(matutils\u001b[38;5;241m.\u001b[39munitvec(\u001b[38;5;28;43mself\u001b[39;49m\u001b[43m[\u001b[49m\u001b[43mw1\u001b[49m\u001b[43m]\u001b[49m), matutils\u001b[38;5;241m.\u001b[39munitvec(\u001b[38;5;28mself\u001b[39m[w2]))\n",
      "File \u001b[1;32md:\\pre_course\\Pratice\\venv\\lib\\site-packages\\gensim\\models\\keyedvectors.py:403\u001b[0m, in \u001b[0;36mKeyedVectors.__getitem__\u001b[1;34m(self, key_or_keys)\u001b[0m\n\u001b[0;32m    389\u001b[0m \u001b[38;5;250m\u001b[39m\u001b[38;5;124;03m\"\"\"Get vector representation of `key_or_keys`.\u001b[39;00m\n\u001b[0;32m    390\u001b[0m \n\u001b[0;32m    391\u001b[0m \u001b[38;5;124;03mParameters\u001b[39;00m\n\u001b[1;32m   (...)\u001b[0m\n\u001b[0;32m    400\u001b[0m \n\u001b[0;32m    401\u001b[0m \u001b[38;5;124;03m\"\"\"\u001b[39;00m\n\u001b[0;32m    402\u001b[0m \u001b[38;5;28;01mif\u001b[39;00m \u001b[38;5;28misinstance\u001b[39m(key_or_keys, _KEY_TYPES):\n\u001b[1;32m--> 403\u001b[0m     \u001b[38;5;28;01mreturn\u001b[39;00m \u001b[38;5;28;43mself\u001b[39;49m\u001b[38;5;241;43m.\u001b[39;49m\u001b[43mget_vector\u001b[49m\u001b[43m(\u001b[49m\u001b[43mkey_or_keys\u001b[49m\u001b[43m)\u001b[49m\n\u001b[0;32m    405\u001b[0m \u001b[38;5;28;01mreturn\u001b[39;00m vstack([\u001b[38;5;28mself\u001b[39m\u001b[38;5;241m.\u001b[39mget_vector(key) \u001b[38;5;28;01mfor\u001b[39;00m key \u001b[38;5;129;01min\u001b[39;00m key_or_keys])\n",
      "File \u001b[1;32md:\\pre_course\\Pratice\\venv\\lib\\site-packages\\gensim\\models\\keyedvectors.py:446\u001b[0m, in \u001b[0;36mKeyedVectors.get_vector\u001b[1;34m(self, key, norm)\u001b[0m\n\u001b[0;32m    422\u001b[0m \u001b[38;5;28;01mdef\u001b[39;00m \u001b[38;5;21mget_vector\u001b[39m(\u001b[38;5;28mself\u001b[39m, key, norm\u001b[38;5;241m=\u001b[39m\u001b[38;5;28;01mFalse\u001b[39;00m):\n\u001b[0;32m    423\u001b[0m \u001b[38;5;250m    \u001b[39m\u001b[38;5;124;03m\"\"\"Get the key's vector, as a 1D numpy array.\u001b[39;00m\n\u001b[0;32m    424\u001b[0m \n\u001b[0;32m    425\u001b[0m \u001b[38;5;124;03m    Parameters\u001b[39;00m\n\u001b[1;32m   (...)\u001b[0m\n\u001b[0;32m    444\u001b[0m \n\u001b[0;32m    445\u001b[0m \u001b[38;5;124;03m    \"\"\"\u001b[39;00m\n\u001b[1;32m--> 446\u001b[0m     index \u001b[38;5;241m=\u001b[39m \u001b[38;5;28;43mself\u001b[39;49m\u001b[38;5;241;43m.\u001b[39;49m\u001b[43mget_index\u001b[49m\u001b[43m(\u001b[49m\u001b[43mkey\u001b[49m\u001b[43m)\u001b[49m\n\u001b[0;32m    447\u001b[0m     \u001b[38;5;28;01mif\u001b[39;00m norm:\n\u001b[0;32m    448\u001b[0m         \u001b[38;5;28mself\u001b[39m\u001b[38;5;241m.\u001b[39mfill_norms()\n",
      "File \u001b[1;32md:\\pre_course\\Pratice\\venv\\lib\\site-packages\\gensim\\models\\keyedvectors.py:420\u001b[0m, in \u001b[0;36mKeyedVectors.get_index\u001b[1;34m(self, key, default)\u001b[0m\n\u001b[0;32m    418\u001b[0m     \u001b[38;5;28;01mreturn\u001b[39;00m default\n\u001b[0;32m    419\u001b[0m \u001b[38;5;28;01melse\u001b[39;00m:\n\u001b[1;32m--> 420\u001b[0m     \u001b[38;5;28;01mraise\u001b[39;00m \u001b[38;5;167;01mKeyError\u001b[39;00m(\u001b[38;5;124mf\u001b[39m\u001b[38;5;124m\"\u001b[39m\u001b[38;5;124mKey \u001b[39m\u001b[38;5;124m'\u001b[39m\u001b[38;5;132;01m{\u001b[39;00mkey\u001b[38;5;132;01m}\u001b[39;00m\u001b[38;5;124m'\u001b[39m\u001b[38;5;124m not present\u001b[39m\u001b[38;5;124m\"\u001b[39m)\n",
      "\u001b[1;31mKeyError\u001b[0m: \"Key 'cyanogenmod' not present\""
     ]
    }
   ],
   "source": [
    "print(model.wv.similarity('wallet','android'))\n",
    "print(model.wv.similarity('wallet','purse'))\n",
    "print(model.wv.similarity('windows','microsoft'))\n",
    "print(model.wv.similarity('cyanogenmod','android'))"
   ]
  },
  {
   "cell_type": "code",
   "execution_count": 28,
   "metadata": {},
   "outputs": [
    {
     "name": "stderr",
     "output_type": "stream",
     "text": [
      "2025-04-07 00:31:51,526 : INFO : loading Word2Vec object from stackexchange_model\n",
      "2025-04-07 00:31:51,551 : INFO : loading wv recursively from stackexchange_model.wv.* with mmap=None\n",
      "2025-04-07 00:31:51,553 : INFO : loading vectors from stackexchange_model.wv.vectors.npy with mmap=None\n",
      "2025-04-07 00:31:51,583 : INFO : loading syn1neg from stackexchange_model.syn1neg.npy with mmap=None\n",
      "2025-04-07 00:31:51,613 : INFO : setting ignored attribute cum_table to None\n",
      "2025-04-07 00:31:52,005 : INFO : Word2Vec lifecycle event {'fname': 'stackexchange_model', 'datetime': '2025-04-07T00:31:52.005370', 'gensim': '4.3.3', 'python': '3.10.16 | packaged by Anaconda, Inc. | (main, Dec 11 2024, 16:19:12) [MSC v.1929 64 bit (AMD64)]', 'platform': 'Windows-10-10.0.26100-SP0', 'event': 'loaded'}\n"
     ]
    }
   ],
   "source": [
    "model = gensim.models.Word2Vec.load('stackexchange_model')\n",
    "#model.train(more_sentences)"
   ]
  },
  {
   "cell_type": "code",
   "execution_count": null,
   "metadata": {
    "collapsed": true
   },
   "outputs": [],
   "source": [
    "from sklearn.metrics import accuracy_score, classification_report\n",
    "import pandas as pd\n",
    "\n",
    "# Assume your data has columns: 'job_description', 'resume_text', 'label'\n",
    "df = pd.read_csv('evaluation_dataset.csv')\n",
    "\n",
    "true_labels = []\n",
    "predicted_labels = []\n",
    "\n",
    "for _, row in df.iterrows():\n",
    "    jd = row['job_description']\n",
    "    resume = row['resume_text']\n",
    "    true_label = row['label']\n",
    "\n",
    "    # Preprocess\n",
    "    jd_processed = preprocess_text(jd)\n",
    "    resume_processed = preprocess_text(resume)\n",
    "\n",
    "    # Use your trained model to calculate similarity\n",
    "    similarity_score = calculate_similarity_with_model(jd_processed, resume_processed)\n",
    "\n",
    "    # Classify: 1 if similarity > 0.5 else 0\n",
    "    predicted = 1 if similarity_score > 0.5 else 0\n",
    "\n",
    "    true_labels.append(true_label)\n",
    "    predicted_labels.append(predicted)\n",
    "\n",
    "# Evaluate\n",
    "print(\"Accuracy:\", accuracy_score(true_labels, predicted_labels))\n",
    "print(classification_report(true_labels, predicted_labels))\n"
   ]
  }
 ],
 "metadata": {
  "anaconda-cloud": {},
  "kernelspec": {
   "display_name": "Python 3",
   "language": "python",
   "name": "python3"
  },
  "language_info": {
   "codemirror_mode": {
    "name": "ipython",
    "version": 3
   },
   "file_extension": ".py",
   "mimetype": "text/x-python",
   "name": "python",
   "nbconvert_exporter": "python",
   "pygments_lexer": "ipython3",
   "version": "3.10.16"
  }
 },
 "nbformat": 4,
 "nbformat_minor": 1
}
