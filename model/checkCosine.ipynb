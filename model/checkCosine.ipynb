{
 "cells": [
  {
   "cell_type": "code",
   "execution_count": 8,
   "id": "7884738b",
   "metadata": {},
   "outputs": [],
   "source": [
    "from gensim.models import Word2Vec\n",
    "\n",
    "model = Word2Vec.load(\"stackexchange_model\")\n"
   ]
  },
  {
   "cell_type": "code",
   "execution_count": 9,
   "id": "6504f07a",
   "metadata": {},
   "outputs": [],
   "source": [
    "import numpy as np\n",
    "\n",
    "def document_vector(doc, model):\n",
    "    # remove out-of-vocabulary words\n",
    "    words = [word for word in doc.lower().split() if word in model.wv.key_to_index]\n",
    "    if not words:\n",
    "        return np.zeros(model.vector_size)\n",
    "    return np.mean(model.wv[words], axis=0)\n"
   ]
  },
  {
   "cell_type": "code",
   "execution_count": 10,
   "id": "b1d28ed3",
   "metadata": {},
   "outputs": [],
   "source": [
    "from sklearn.metrics.pairwise import cosine_similarity\n",
    "import numpy as np\n",
    "\n",
    "def rank_resumes_against_jd(job_description, cv_texts, model, top_n=5):\n",
    "    jd_vec = document_vector(job_description, model)\n",
    "\n",
    "    if np.all(jd_vec == 0):\n",
    "        raise ValueError(\"JD vector is empty — possibly no valid words found in the model vocabulary.\")\n",
    "\n",
    "    similarities = []\n",
    "    for i, cv in enumerate(cv_texts):\n",
    "        cv_vec = document_vector(cv, model)\n",
    "        if np.all(cv_vec == 0):\n",
    "            similarity = 0.0\n",
    "        else:\n",
    "            similarity = cosine_similarity([jd_vec], [cv_vec])[0][0]\n",
    "        similarities.append((i, similarity))\n",
    "\n",
    "    # Sort by similarity (highest first)\n",
    "    ranked = sorted(similarities, key=lambda x: x[1], reverse=True)\n",
    "\n",
    "    # Print top matches\n",
    "    print(f\"\\nTop {top_n} matching CVs for the given JD:\\n\" + \"-\"*50)\n",
    "    for idx, score in ranked[:top_n]:\n",
    "        print(f\"CV #{idx + 1} | Similarity: {score:.4f}\")\n",
    "        print(cv_texts[idx][:300] + '...')  # Print a snippet\n",
    "        print(\"-\" * 50)\n",
    "    \n",
    "    return ranked[:top_n]\n"
   ]
  },
  {
   "cell_type": "code",
   "execution_count": 11,
   "id": "bdaa65a3",
   "metadata": {},
   "outputs": [],
   "source": [
    "job_description = \"a leading ecommerce agency is looking to hire a web developer to join their team of ecommerce developers. the role will involve working on different types of client and a candidate should have the ability to create and implement unique, engaging, and intuitive work to meet client requirements. requirements: 34 years of experience in web development **** or more years on ecommerce projects in an agency setting development skills in the following technologies: o asp.net and asp o vb and vb.net o sql server / tsql o com/dcom o xml, html o javascript knowledge of microsoft commerce server, any other ecommerce solutions if this sounds like a challenge that you are ready to take up, send in your cv now\"\n",
    "\n"
   ]
  },
  {
   "cell_type": "code",
   "execution_count": 15,
   "id": "84106283",
   "metadata": {},
   "outputs": [
    {
     "name": "stdout",
     "output_type": "stream",
     "text": [
      "\n",
      "Top 5 matching CVs for the given JD:\n",
      "--------------------------------------------------\n",
      "CV #243 | Similarity: 0.9224\n",
      "JESSICA CLAIRE\n",
      "Montgomery Street, San Francisco, CA 94105⚫ (555) 432-1000⚫ resumesample@example.com\n",
      "Professional Summary\n",
      "Highly motivated Sales Associate with extensive customer service and sales experience. Outgoing sales professional with track record of driving increased sales, improving buying e...\n",
      "--------------------------------------------------\n",
      "CV #244 | Similarity: 0.9224\n",
      "JESSICA CLAIRE\n",
      "Montgomery Street, San Francisco, CA 94105 ⚫ (555) 432-1000 ⚫resumesample@example.com\n",
      "Professional Summary\n",
      "Highly motivated Sales Associate with extensive customer service and sales experience. Outgoing sales professional with track\n",
      "record of driving increased sales, improving buying ...\n",
      "--------------------------------------------------\n",
      "CV #379 | Similarity: 0.9224\n",
      "JESSICA CLAIRE\n",
      "Montgomery Street, San Francisco, CA 94105⚫ (555) 432-1000⚫ resumesample@example.com\n",
      "Professional Summary\n",
      "Highly motivated Sales Associate with extensive customer service and sales experience. Outgoing sales professional with track record of driving increased sales, improving buying e...\n",
      "--------------------------------------------------\n",
      "CV #380 | Similarity: 0.9224\n",
      "JESSICA CLAIRE\n",
      "Montgomery Street, San Francisco, CA 94105 ⚫ (555) 432-1000 ⚫resumesample@example.com\n",
      "Professional Summary\n",
      "Highly motivated Sales Associate with extensive customer service and sales experience. Outgoing sales professional with track\n",
      "record of driving increased sales, improving buying ...\n",
      "--------------------------------------------------\n",
      "CV #87 | Similarity: 0.9144\n",
      "JESSICA CLAIRE\n",
      "Montgomery Street, San Francisco, CA 94105⚫ (555) 432-1000⚫ resumesample@example.com\n",
      "Summary\n",
      "Educational Leadership, Business Development, Problem Solving through Innovative Process, Leadership Development, Driven by a strong \"Why\" statement to achieve success at all levels, Instructo...\n",
      "--------------------------------------------------\n"
     ]
    }
   ],
   "source": [
    "import pandas as pd\n",
    "\n",
    "# Load CVs from CSV\n",
    "cv_df = pd.read_csv(\"d:/pre_course/Pratice/ResumeMatchingMVP/data/extracted_resumes.csv\")\n",
    "\n",
    "# Extract only the text column (can add .tolist() to convert to list)\n",
    "cv_texts = cv_df['Extracted_Text'].fillna(\"\").tolist()\n",
    "\n",
    "ranked = rank_resumes_against_jd(job_description, cv_texts, model, top_n=5)"
   ]
  },
  {
   "cell_type": "code",
   "execution_count": 16,
   "id": "98bb41a0",
   "metadata": {},
   "outputs": [
    {
     "name": "stdout",
     "output_type": "stream",
     "text": [
      "File: 28.docx | Score: 0.9224\n",
      "File: 28.png | Score: 0.9224\n",
      "File: 9.docx | Score: 0.9224\n",
      "File: 9.png | Score: 0.9224\n",
      "File: 137.docx | Score: 0.9144\n"
     ]
    }
   ],
   "source": [
    "for idx, score in ranked:\n",
    "    print(f\"File: {cv_df['File'][idx]} | Score: {score:.4f}\")\n"
   ]
  },
  {
   "cell_type": "code",
   "execution_count": 17,
   "id": "039b0c78",
   "metadata": {},
   "outputs": [],
   "source": [
    "results = pd.DataFrame([\n",
    "    {\"File\": cv_df['File'][idx], \"Similarity\": score}\n",
    "    for idx, score in ranked\n",
    "])\n",
    "\n",
    "results.to_csv(\"top_matched_resumes.csv\", index=False)\n"
   ]
  }
 ],
 "metadata": {
  "kernelspec": {
   "display_name": "Python 3",
   "language": "python",
   "name": "python3"
  },
  "language_info": {
   "codemirror_mode": {
    "name": "ipython",
    "version": 3
   },
   "file_extension": ".py",
   "mimetype": "text/x-python",
   "name": "python",
   "nbconvert_exporter": "python",
   "pygments_lexer": "ipython3",
   "version": "3.10.16"
  }
 },
 "nbformat": 4,
 "nbformat_minor": 5
}
